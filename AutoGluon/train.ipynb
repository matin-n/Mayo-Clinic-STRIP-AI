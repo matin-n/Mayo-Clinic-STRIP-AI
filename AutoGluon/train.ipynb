{
 "cells": [
  {
   "cell_type": "markdown",
   "metadata": {},
   "source": [
    "# AutoGluon Train"
   ]
  },
  {
   "cell_type": "markdown",
   "metadata": {},
   "source": [
    "## Imports"
   ]
  },
  {
   "cell_type": "code",
   "execution_count": null,
   "metadata": {},
   "outputs": [],
   "source": [
    "import os\n",
    "import pandas as pd\n",
    "from autogluon.multimodal import MultiModalPredictor\n"
   ]
  },
  {
   "cell_type": "markdown",
   "metadata": {},
   "source": [
    "## Global Variables"
   ]
  },
  {
   "cell_type": "code",
   "execution_count": null,
   "metadata": {},
   "outputs": [],
   "source": [
    "# Set global variables.\n",
    "\n",
    "# Path to the training data. (path that holds `train.csv` and a folder for training images.)\n",
    "DATA_DIR = os.path.abspath(os.path.join(os.getcwd(), os.pardir, \"data\"))\n",
    "\n",
    "# Location of the training images. (folder that holds the training images.)\n",
    "TRAIN_IMAGE_DIR = os.path.join(DATA_DIR, \"train\")\n",
    "\n",
    "# Location of the training data. (path to `train.csv`.)\n",
    "TRAIN_DATA_PATH = os.path.join(DATA_DIR, \"train.csv\")\n",
    "\n",
    "# File extension of the training images. (used to append to the image names in `train.csv`.)\n",
    "TRAIN_IMG_EXT = \".jpeg\"\n",
    "\n",
    "# Path to save the trained models.\n",
    "TRAIN_SAVE_PATH = os.path.join(DATA_DIR, \"models\")\n"
   ]
  },
  {
   "cell_type": "markdown",
   "metadata": {},
   "source": [
    "## Load & Create Image Dataset"
   ]
  },
  {
   "cell_type": "code",
   "execution_count": null,
   "metadata": {},
   "outputs": [],
   "source": [
    "# Load training data.\n",
    "df_train = pd.read_csv(TRAIN_DATA_PATH)\n",
    "df_train.head()\n"
   ]
  },
  {
   "cell_type": "code",
   "execution_count": null,
   "metadata": {},
   "outputs": [],
   "source": [
    "# Set the image path column.\n",
    "df_train[\"image\"] = df_train[\"image_id\"].apply(\n",
    "    lambda x: os.path.join(TRAIN_IMAGE_DIR, x + TRAIN_IMG_EXT)\n",
    ")\n",
    "df_train.head()\n"
   ]
  },
  {
   "cell_type": "code",
   "execution_count": null,
   "metadata": {},
   "outputs": [],
   "source": [
    "# Drop image_id and patient_id columns as they are not needed for features.\n",
    "df_train_final = df_train.drop(columns=[\"image_id\", \"patient_id\", \"center_id\", \"image_num\"]).copy(deep=True)\n",
    "df_train_final.head()\n"
   ]
  },
  {
   "cell_type": "markdown",
   "metadata": {},
   "source": [
    "## MultiModalPredictor for Training"
   ]
  },
  {
   "cell_type": "markdown",
   "metadata": {},
   "source": [
    "- Inspiration: https://github.com/awslabs/autogluon/tree/master/examples/automm/kaggle_pawpularity"
   ]
  },
  {
   "cell_type": "markdown",
   "metadata": {},
   "source": [
    "### Build the Predictor"
   ]
  },
  {
   "cell_type": "code",
   "execution_count": null,
   "metadata": {},
   "outputs": [],
   "source": [
    "predictor = MultiModalPredictor(\n",
    "    label=\"label\",  # Target value to predict.    \n",
    "    problem_type=\"Binary\",  # Type of problem (either \"Multiclass\", \"Binary\", or \"Regression\").    \n",
    "    path=TRAIN_SAVE_PATH,  # Path to save the trained model.\n",
    "    verbosity=4,  # Verbosity levels range from 0 to 4 and control how much information is printed.\n",
    ")\n"
   ]
  },
  {
   "cell_type": "markdown",
   "metadata": {},
   "source": [
    "### Train the Predictor"
   ]
  },
  {
   "cell_type": "code",
   "execution_count": null,
   "metadata": {},
   "outputs": [],
   "source": [
    "predictor.fit(\n",
    "    train_data=df_train_final,\n",
    "    presets=\"best_quality\",    \n",
    "    save_path=TRAIN_SAVE_PATH,\n",
    "    hyperparameters={\n",
    "        \"model.names\": \"['timm_image']\",\n",
    "        \"model.timm_image.checkpoint_name\": \"swin_large_patch4_window7_224\",     \n",
    "        \"optimization.learning_rate\": \"2e-5\",\n",
    "        \"optimization.optim_type\": \"adamw\",\n",
    "        \"optimization.max_epochs\": 20,\n",
    "        \"env.precision\": \"32\",\n",
    "        \"data.pos_label\": \"LAA\",\n",
    "        \"data.mixup.turn_on\": True,\n",
    "        \"data.mixup.cutmix_alpha\": 0.8,\n",
    "        \"data.mixup.prob\": 0.5,\n",
    "        \"data.mixup.switch_prob\": 0.7,\n",
    "        \"data.mixup.turn_off_epoch\": 7,       \n",
    "        },        \n",
    "    \n",
    "    column_types={\n",
    "        # TODO: Use these columns to evaluate any potential improvements.\n",
    "        # \"center_id\": \"categorical\", \n",
    "        # \"image_num\": \"numerical\",\n",
    "        \"image\": \"image_path\",\n",
    "    },\n",
    "    # time_limit= 30, # Time limit in seconds.    \n",
    "    seed=123,\n",
    ")\n"
   ]
  },
  {
   "cell_type": "markdown",
   "metadata": {},
   "source": [
    "\n",
    "- `train_data` is the data used for training.\n",
    "- `tuning_data` is the data for validation. If it is empty, the tuning data will be split from training data automatically.\n",
    "- `save_path` indicates the specific path for model saving in a fit process.\n",
    "- `hyperparameters` is a Dict which will override the default configs in the training. The configs contain five different types.\n",
    "    - `model` contains the parameters which control the models used in the predictor. You can select the model you need and adjust the details. Default is selecting the models determined by the dataset automatically\n",
    "    - `data` contains the configs of transforms for different types of data.\n",
    "    - `env` contains the configs of the training environment. \n",
    "    - `optimization` contains the configs in the optimization process, including but not limited to max training epochs, learning rate and warm-up.\n",
    "- `seed` determines the random seed.\n",
    "\n",
    "[Source](https://github.com/awslabs/autogluon/tree/master/examples/automm/kaggle_pawpularity) \n"
   ]
  },
  {
   "cell_type": "markdown",
   "metadata": {},
   "source": [
    "### Save Model"
   ]
  },
  {
   "cell_type": "markdown",
   "metadata": {},
   "source": [
    "> In MultiModalPredictor, some pre-trained models will be downloaded during training. These models also need to be saved for use in predicting after submission. You can specify the predictor to save a “standalone” model that can be loaded without internet access.\n",
    "\n",
    "[Source](https://github.com/awslabs/autogluon/tree/master/examples/automm/kaggle_pawpularity#13-save-standalone-model)"
   ]
  },
  {
   "cell_type": "code",
   "execution_count": null,
   "metadata": {},
   "outputs": [],
   "source": [
    "predictor.save(path=TRAIN_SAVE_PATH, standalone=True)\n"
   ]
  }
 ],
 "metadata": {
  "kernelspec": {
   "display_name": "Python 3.7.12 ('python')",
   "language": "python",
   "name": "python3"
  },
  "language_info": {
   "codemirror_mode": {
    "name": "ipython",
    "version": 3
   },
   "file_extension": ".py",
   "mimetype": "text/x-python",
   "name": "python",
   "nbconvert_exporter": "python",
   "pygments_lexer": "ipython3",
   "version": "3.7.12"
  },
  "orig_nbformat": 4,
  "vscode": {
   "interpreter": {
    "hash": "33156c7f7ccf3a2565b628d4cedcfb009b502d3e308046f24b221e9d75da87b2"
   }
  }
 },
 "nbformat": 4,
 "nbformat_minor": 2
}
