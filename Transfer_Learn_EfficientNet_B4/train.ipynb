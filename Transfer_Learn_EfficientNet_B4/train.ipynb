{
 "cells": [
  {
   "cell_type": "markdown",
   "metadata": {},
   "source": [
    "# Transfer Learning"
   ]
  },
  {
   "cell_type": "markdown",
   "metadata": {},
   "source": [
    "## Imports"
   ]
  },
  {
   "cell_type": "code",
   "execution_count": null,
   "metadata": {},
   "outputs": [],
   "source": [
    "import os\n",
    "import shutil\n",
    "\n",
    "import pandas as pd\n",
    "from keras.models import load_model\n",
    "from sklearn.model_selection import train_test_split\n",
    "from tensorflow import keras\n",
    "from tensorflow.keras.preprocessing.image import ImageDataGenerator\n"
   ]
  },
  {
   "cell_type": "markdown",
   "metadata": {},
   "source": [
    "## Use Latest EfficientNet Weights"
   ]
  },
  {
   "cell_type": "markdown",
   "metadata": {},
   "source": [
    "Apply the latest pre-trained EfficientNetB4 weights. I used [efficientnet_weight_update_util.py](https://github.com/keras-team/keras/blob/master/keras/applications/efficientnet_weight_update_util.py) to convert the ckpt file to a h5 file."
   ]
  },
  {
   "cell_type": "code",
   "execution_count": null,
   "metadata": {},
   "outputs": [],
   "source": [
    "SIZE = 384\n",
    "\n",
    "base_model = keras.applications.EfficientNetB4(\n",
    "    # \"NoisyStudent + RA\" weights ImageNet.\n",
    "    # Source: https://github.com/tensorflow/tpu/tree/master/models/official/efficientnet\n",
    "    weights=\"/workspace/efficientnetb4_notop.h5\",\n",
    "    input_shape=(SIZE, SIZE, 3),\n",
    "    include_top=False,\n",
    ")\n"
   ]
  },
  {
   "cell_type": "markdown",
   "metadata": {},
   "source": [
    "## Freeze Base Model"
   ]
  },
  {
   "cell_type": "markdown",
   "metadata": {},
   "source": [
    "Freeze the base model to ensure all the learning from the pre-trained ImageNet dataset does not get destroyed during initial training. Initially, only the top layer will be trained."
   ]
  },
  {
   "cell_type": "code",
   "execution_count": 5,
   "metadata": {},
   "outputs": [],
   "source": [
    "# Freeze base model\n",
    "base_model.trainable = False\n"
   ]
  },
  {
   "cell_type": "markdown",
   "metadata": {},
   "source": [
    "## Rebuild Top Layer"
   ]
  },
  {
   "cell_type": "code",
   "execution_count": 6,
   "metadata": {},
   "outputs": [],
   "source": [
    "# Create inputs with correct shape\n",
    "inputs = keras.Input(shape=(SIZE, SIZE, 3))\n",
    "\n",
    "x = base_model(inputs, training=False)\n",
    "\n",
    "# Add pooling layer\n",
    "x = keras.layers.GlobalAveragePooling2D()(x)\n",
    "\n",
    "# Add final dense layer\n",
    "outputs = keras.layers.Dense(units=2, activation=\"softmax\")(x)\n",
    "# outputs = keras.layers.Dense(units=1, activation='sigmoid')(x)\n",
    "# outputs = keras.layers.Dense(units=1)(x)\n",
    "\n",
    "# Combine inputs and outputs to create model\n",
    "model = keras.Model(inputs, outputs)\n"
   ]
  },
  {
   "cell_type": "code",
   "execution_count": 7,
   "metadata": {},
   "outputs": [
    {
     "name": "stdout",
     "output_type": "stream",
     "text": [
      "Model: \"model\"\n",
      "_________________________________________________________________\n",
      " Layer (type)                Output Shape              Param #   \n",
      "=================================================================\n",
      " input_2 (InputLayer)        [(None, 384, 384, 3)]     0         \n",
      "                                                                 \n",
      " efficientnetb4 (Functional)  (None, 12, 12, 1792)     17673823  \n",
      "                                                                 \n",
      " global_average_pooling2d (G  (None, 1792)             0         \n",
      " lobalAveragePooling2D)                                          \n",
      "                                                                 \n",
      " dense (Dense)               (None, 2)                 3586      \n",
      "                                                                 \n",
      "=================================================================\n",
      "Total params: 17,677,409\n",
      "Trainable params: 3,586\n",
      "Non-trainable params: 17,673,823\n",
      "_________________________________________________________________\n"
     ]
    }
   ],
   "source": [
    "model.summary()\n"
   ]
  },
  {
   "cell_type": "markdown",
   "metadata": {},
   "source": [
    "## Compile Model"
   ]
  },
  {
   "cell_type": "markdown",
   "metadata": {},
   "source": [
    "Compile model with loss and metric options."
   ]
  },
  {
   "cell_type": "code",
   "execution_count": 8,
   "metadata": {},
   "outputs": [],
   "source": [
    "# Binary crossentropy and binary accuracy\n",
    "# model.compile(loss=keras.losses.BinaryCrossentropy(from_logits=True), metrics=[keras.metrics.BinaryAccuracy()])\n",
    "\n",
    "model.compile(loss=\"categorical_crossentropy\", metrics=[\"accuracy\"])\n"
   ]
  },
  {
   "cell_type": "markdown",
   "metadata": {},
   "source": [
    "## Split Data"
   ]
  },
  {
   "cell_type": "markdown",
   "metadata": {},
   "source": [
    "Split the data for train and validation. 90% for training and 10% for validation."
   ]
  },
  {
   "cell_type": "code",
   "execution_count": null,
   "metadata": {},
   "outputs": [],
   "source": [
    "df = pd.read_csv('./train.csv')\n",
    "\n",
    "# Split data into train and validation sets with stratification\n",
    "train_df, valid_df = train_test_split(\n",
    "    df, test_size=0.1, random_state=777, stratify=df[\"label\"]\n",
    ")\n",
    "\n",
    "# Create a directory for each label (CE and LAA)\n",
    "for label in df[\"label\"].unique():\n",
    "    os.makedirs(f\"/workspace/train_data_cropped/train/{label}\", exist_ok=True)\n",
    "    os.makedirs(f\"/workspace/train_data_cropped/valid/{label}\", exist_ok=True)\n",
    "\n",
    "# Move training images to subdirectories\n",
    "train_df[[\"label\", \"image_id\"]].apply(\n",
    "    lambda x: shutil.move(\n",
    "        f\"/workspace/train_data_cropped/{x['image_id']}.jpeg\",\n",
    "        f\"/workspace/train_data_cropped/train/{x['label']}/{x['image_id']}.jpeg\",\n",
    "    ),\n",
    "    axis=1,\n",
    ")\n",
    "\n",
    "# Move validation images to subdirectories\n",
    "valid_df[[\"label\", \"image_id\"]].apply(\n",
    "    lambda x: shutil.move(\n",
    "        f\"/workspace/train_data_cropped/train/{x['image_id']}.jpeg\",\n",
    "        f\"/workspace/train_data_cropped/valid/{x['label']}/{x['image_id']}.jpeg\",\n",
    "    ),\n",
    "    axis=1,\n",
    ")\n"
   ]
  },
  {
   "cell_type": "markdown",
   "metadata": {},
   "source": [
    "## Augment the data"
   ]
  },
  {
   "cell_type": "markdown",
   "metadata": {},
   "source": [
    "Now, load the train and validation datasets. Ensuring that the `target_size` is matching the height and width for input of the model."
   ]
  },
  {
   "cell_type": "code",
   "execution_count": 6,
   "metadata": {},
   "outputs": [],
   "source": [
    "# Create a data generator for augmenting the training data.\n",
    "datagen_train = ImageDataGenerator(\n",
    "    samplewise_center=True,  # set each sample mean to 0\n",
    "    rotation_range=8,  # randomly rotate images in the range (degrees, 0 to 180)\n",
    "    zoom_range=0.2,  # Randomly zoom image\n",
    "    width_shift_range=0.2,  # randomly shift images horizontally (fraction of total width)\n",
    "    height_shift_range=0.2,  # randomly shift images vertically (fraction of total height)\n",
    "    horizontal_flip=True,  # randomly flip images horizontally\n",
    "    vertical_flip=True,  # randomly flip images vertically\n",
    ")\n",
    "\n",
    "# Validation data does not need to be augmented.\n",
    "datagen_valid = ImageDataGenerator(samplewise_center=True)\n"
   ]
  },
  {
   "cell_type": "code",
   "execution_count": 9,
   "metadata": {},
   "outputs": [
    {
     "name": "stdout",
     "output_type": "stream",
     "text": [
      "Found 578 images belonging to 2 classes.\n",
      "Found 176 images belonging to 2 classes.\n"
     ]
    }
   ],
   "source": [
    "# Load and iterate training dataset\n",
    "train_it = datagen_train.flow_from_directory(\n",
    "    \"/workspace/train_data_cropped/train/\",\n",
    "    target_size=(SIZE, SIZE),\n",
    "    color_mode=\"rgb\",\n",
    "    class_mode=\"categorical\",\n",
    "    # class_mode=\"binary\",\n",
    ")\n",
    "\n",
    "# load and iterate validation dataset\n",
    "valid_it = datagen_valid.flow_from_directory(\n",
    "    \"/workspace/train_data_cropped/val/\",\n",
    "    target_size=(SIZE, SIZE),\n",
    "    color_mode=\"rgb\",\n",
    "    class_mode=\"categorical\",\n",
    "    # class_mode=\"binary\",\n",
    ")\n"
   ]
  },
  {
   "cell_type": "markdown",
   "metadata": {},
   "source": [
    "## Train the Model"
   ]
  },
  {
   "cell_type": "markdown",
   "metadata": {},
   "source": [
    "Time to train the model! Since the base model is frozen, only the top layer is being trained here."
   ]
  },
  {
   "cell_type": "code",
   "execution_count": 11,
   "metadata": {},
   "outputs": [
    {
     "name": "stdout",
     "output_type": "stream",
     "text": [
      "Epoch 1/7\n"
     ]
    },
    {
     "name": "stderr",
     "output_type": "stream",
     "text": [
      "2022-10-05 11:52:12.089449: I tensorflow/stream_executor/cuda/cuda_dnn.cc:424] Loaded cuDNN version 8600\n"
     ]
    },
    {
     "name": "stdout",
     "output_type": "stream",
     "text": [
      "18/18 [==============================] - 29s 1s/step - loss: 0.6135 - accuracy: 0.6851 - val_loss: 0.6269 - val_accuracy: 0.6364\n",
      "Epoch 2/7\n",
      "18/18 [==============================] - 20s 1s/step - loss: 0.5742 - accuracy: 0.7215 - val_loss: 0.6077 - val_accuracy: 0.7273\n",
      "Epoch 3/7\n",
      "18/18 [==============================] - 20s 1s/step - loss: 0.5659 - accuracy: 0.7163 - val_loss: 0.6073 - val_accuracy: 0.6761\n",
      "Epoch 4/7\n",
      "18/18 [==============================] - 21s 1s/step - loss: 0.5546 - accuracy: 0.7370 - val_loss: 0.5931 - val_accuracy: 0.7273\n",
      "Epoch 5/7\n",
      "18/18 [==============================] - 19s 1s/step - loss: 0.5527 - accuracy: 0.7249 - val_loss: 0.6348 - val_accuracy: 0.6477\n",
      "Epoch 6/7\n",
      "18/18 [==============================] - 19s 1s/step - loss: 0.5427 - accuracy: 0.7388 - val_loss: 0.6150 - val_accuracy: 0.6648\n",
      "Epoch 7/7\n",
      "18/18 [==============================] - 20s 1s/step - loss: 0.5417 - accuracy: 0.7509 - val_loss: 0.6110 - val_accuracy: 0.7330\n"
     ]
    },
    {
     "data": {
      "text/plain": [
       "<keras.callbacks.History at 0x7f94544ee6a0>"
      ]
     },
     "execution_count": 11,
     "metadata": {},
     "output_type": "execute_result"
    }
   ],
   "source": [
    "model.fit(\n",
    "    train_it,\n",
    "    validation_data=valid_it,\n",
    "    steps_per_epoch=train_it.samples / train_it.batch_size,\n",
    "    validation_steps=valid_it.samples / valid_it.batch_size,\n",
    "    epochs=7,\n",
    ")\n"
   ]
  },
  {
   "cell_type": "markdown",
   "metadata": {},
   "source": [
    "## Evaluate the Model"
   ]
  },
  {
   "cell_type": "code",
   "execution_count": 12,
   "metadata": {},
   "outputs": [
    {
     "name": "stdout",
     "output_type": "stream",
     "text": [
      "5/5 [==============================] - 2s 387ms/step - loss: 0.6110 - accuracy: 0.7330\n"
     ]
    },
    {
     "data": {
      "text/plain": [
       "[0.6109561324119568, 0.7329545617103577]"
      ]
     },
     "execution_count": 12,
     "metadata": {},
     "output_type": "execute_result"
    }
   ],
   "source": [
    "model.evaluate(valid_it, steps=valid_it.samples / valid_it.batch_size)\n"
   ]
  },
  {
   "cell_type": "markdown",
   "metadata": {},
   "source": [
    "## Fine-Tuning the Model"
   ]
  },
  {
   "cell_type": "markdown",
   "metadata": {},
   "source": [
    "Now the model will be re-trained again. However, this time I unfreeze the entire model, and train all the layers with a small learning rate. "
   ]
  },
  {
   "cell_type": "code",
   "execution_count": 13,
   "metadata": {},
   "outputs": [],
   "source": [
    "# Unfreeze the base model\n",
    "base_model.trainable = False\n",
    "\n",
    "# Recompile the model with a low learning rate.\n",
    "model.compile(\n",
    "    optimizer=keras.optimizers.RMSprop(learning_rate=0.00001),  \n",
    "    loss=\"categorical_crossentropy\",\n",
    "    metrics=[\"accuracy\"],\n",
    "    # loss=keras.losses.BinaryCrossentropy(from_logits=True),\n",
    "    # metrics=[keras.metrics.BinaryAccuracy()]\n",
    ")\n"
   ]
  },
  {
   "cell_type": "code",
   "execution_count": 16,
   "metadata": {},
   "outputs": [
    {
     "name": "stdout",
     "output_type": "stream",
     "text": [
      "Epoch 1/5\n",
      "12/12 [==============================] - 13s 1s/step - loss: 0.5559 - accuracy: 0.7316 - val_loss: 0.5685 - val_accuracy: 0.7578\n",
      "Epoch 2/5\n",
      "12/12 [==============================] - 13s 1s/step - loss: 0.5460 - accuracy: 0.7373 - val_loss: 0.6214 - val_accuracy: 0.7344\n",
      "Epoch 3/5\n",
      "12/12 [==============================] - 13s 1s/step - loss: 0.5490 - accuracy: 0.7345 - val_loss: 0.5561 - val_accuracy: 0.7500\n",
      "Epoch 4/5\n",
      "12/12 [==============================] - 13s 1s/step - loss: 0.5452 - accuracy: 0.7422 - val_loss: 0.6543 - val_accuracy: 0.7109\n",
      "Epoch 5/5\n",
      "12/12 [==============================] - 13s 1s/step - loss: 0.5237 - accuracy: 0.7571 - val_loss: 0.5850 - val_accuracy: 0.7500\n"
     ]
    },
    {
     "data": {
      "text/plain": [
       "<keras.callbacks.History at 0x7f943f8d9c40>"
      ]
     },
     "execution_count": 16,
     "metadata": {},
     "output_type": "execute_result"
    }
   ],
   "source": [
    "model.fit(\n",
    "    train_it,\n",
    "    steps_per_epoch=12,\n",
    "    validation_data=valid_it,\n",
    "    validation_steps=4,\n",
    "    epochs=5,\n",
    ")\n"
   ]
  },
  {
   "cell_type": "code",
   "execution_count": 17,
   "metadata": {},
   "outputs": [
    {
     "name": "stdout",
     "output_type": "stream",
     "text": [
      "5/5 [==============================] - 2s 384ms/step - loss: 0.5930 - accuracy: 0.7386\n"
     ]
    },
    {
     "data": {
      "text/plain": [
       "[0.5930337309837341, 0.7386363744735718]"
      ]
     },
     "execution_count": 17,
     "metadata": {},
     "output_type": "execute_result"
    }
   ],
   "source": [
    "model.evaluate(valid_it, steps=valid_it.samples / valid_it.batch_size)\n"
   ]
  },
  {
   "cell_type": "markdown",
   "metadata": {},
   "source": [
    "## Save Model"
   ]
  },
  {
   "cell_type": "code",
   "execution_count": 20,
   "metadata": {},
   "outputs": [],
   "source": [
    "model.save(\"TransferLearn_EfficientNet_Mayo.h5\")\n"
   ]
  }
 ],
 "metadata": {
  "kernelspec": {
   "display_name": "Python 3.7.12 ('python')",
   "language": "python",
   "name": "python3"
  },
  "language_info": {
   "codemirror_mode": {
    "name": "ipython",
    "version": 3
   },
   "file_extension": ".py",
   "mimetype": "text/x-python",
   "name": "python",
   "nbconvert_exporter": "python",
   "pygments_lexer": "ipython3",
   "version": "3.7.12"
  },
  "orig_nbformat": 4,
  "vscode": {
   "interpreter": {
    "hash": "33156c7f7ccf3a2565b628d4cedcfb009b502d3e308046f24b221e9d75da87b2"
   }
  }
 },
 "nbformat": 4,
 "nbformat_minor": 2
}
